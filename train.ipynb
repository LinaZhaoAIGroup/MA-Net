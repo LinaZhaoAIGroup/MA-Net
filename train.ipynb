{
 "cells": [
  {
   "cell_type": "code",
   "execution_count": null,
   "metadata": {},
   "outputs": [],
   "source": [
    "# ! pip install -r requirements.txt"
   ]
  },
  {
   "cell_type": "code",
   "execution_count": null,
   "metadata": {},
   "outputs": [],
   "source": [
    "import torch\n",
    "import torch.nn as nn\n",
    "import torch.nn.functional as F\n",
    "from torch.utils.data import DataLoader,random_split\n",
    "import numpy as np\n",
    "from tqdm import tqdm\n",
    "\n",
    "\n",
    "from maunet.nets.maxvit_unet.maxvit_unet import MaxVit_Unet\n",
    "\n",
    "from maunet.nets.unet import *\n",
    "from maunet.nets.dca_unet import DCA_UNet\n",
    "from maunet.nets.bio_net import BiONet\n",
    "from maunet.data import SegDataset\n",
    "from maunet.utils import *\n",
    "from maunet.loss import *\n",
    "from maunet.train import Trainer\n"
   ]
  },
  {
   "cell_type": "code",
   "execution_count": null,
   "metadata": {},
   "outputs": [],
   "source": [
    "batch_size=4\n",
    "num_workers=4\n",
    "resize = (512,512)\n",
    "trtain_set = SegDataset(\"../../data/tnbc/train/\",resize=resize)\n",
    "trtain_set,val_set = random_split(trtain_set,[0.8,0.2],generator=torch.Generator().manual_seed(42))\n",
    "test_set = SegDataset(\"../../data/tnbc/test/\",resize=resize)\n",
    "\n",
    "train_loader = DataLoader(trtain_set,batch_size=batch_size,num_workers=num_workers)\n",
    "val_loader = DataLoader(val_set,batch_size=1,num_workers=num_workers)\n",
    "test_loader = DataLoader(test_set,batch_size=1,num_workers=num_workers)\n",
    "\n",
    "\n",
    "print(len(trtain_set),len(val_set),len(test_set))\n",
    "img,mask = next(iter(train_loader))\n",
    "img.shape,mask.shape\n"
   ]
  },
  {
   "cell_type": "code",
   "execution_count": null,
   "metadata": {},
   "outputs": [],
   "source": [
    "device = torch.device(\"cuda:0\"if torch.cuda.is_available()else\"cpu\")\n",
    "model = MaxVit_Unet()\n",
    "optim = torch.optim.Adam(model.parameters(),lr=3e-4)\n",
    "scheduler = torch.optim.lr_scheduler.CosineAnnealingLR(optim,T_max=50)\n",
    "loss_function = DiceBCE_Loss\n",
    "trainer = Trainer(model,optim,loss_function,\"./model/temp\",device,scheduler=scheduler)\n",
    "trainer.train(train_loader,val_loader,100,5)"
   ]
  },
  {
   "cell_type": "code",
   "execution_count": null,
   "metadata": {},
   "outputs": [],
   "source": []
  },
  {
   "cell_type": "code",
   "execution_count": null,
   "metadata": {},
   "outputs": [],
   "source": [
    "model_path = \"./model/temp/model.pth\""
   ]
  },
  {
   "cell_type": "code",
   "execution_count": null,
   "metadata": {},
   "outputs": [],
   "source": [
    "# 评价指标\n",
    "device = torch.device(\"cuda:0\"if torch.cuda.is_available()else\"cpu\")\n",
    "\n",
    "model = torch.load(model_path,map_location=device)\n",
    "model.eval()\n",
    "loss_list = []\n",
    "pre_list = []\n",
    "acc_list = []\n",
    "iou_list = []\n",
    "dice_list = []\n",
    "iou_min = np.inf\n",
    "iou_min_bach = None\n",
    "iou_min_index = None\n",
    "index = 0\n",
    "for imgs,label in tqdm(test_loader):\n",
    "    imgs = imgs.to(device)\n",
    "    label = label.to(device)\n",
    "\n",
    "    pred = model(imgs)\n",
    "    loss = loss_function(pred,label)\n",
    "    loss_list.append(loss.item())\n",
    "\n",
    "    pred[pred>0.5]=1\n",
    "    pred[pred<1]=0\n",
    "    pre_list.append(get_pre(pred.cpu(),label.cpu()))\n",
    "    acc_list.append(get_acc(pred.cpu(),label.cpu()))\n",
    "    iou_list.append(get_miou(pred.cpu(),label.cpu()))\n",
    "    dice_list.append(get_dice(pred.cpu(),label.cpu()))\n",
    "\n",
    "    miou = get_miou(pred.cpu(),label.cpu())\n",
    "    if miou<iou_min:\n",
    "        iou_min = miou\n",
    "        iou_min_bach = (imgs,label,pred)\n",
    "        iou_min_index = index\n",
    "    index+=1\n",
    "\n",
    "pre,acc,iou,dice = np.mean(pre_list),np.mean(acc_list),np.mean(iou_list),np.mean(dice_list)\n",
    "print(f\"test_set:\\tpre:{pre:.3f}\\tacc:{acc:.3f}\\tdice:{dice:.3f}\\tiou:{iou:.3f}\")"
   ]
  },
  {
   "cell_type": "code",
   "execution_count": null,
   "metadata": {},
   "outputs": [],
   "source": [
    "model_param_count(model)/1024/1024"
   ]
  },
  {
   "cell_type": "code",
   "execution_count": null,
   "metadata": {},
   "outputs": [],
   "source": [
    "imgs,label,pred = iou_min_bach\n",
    "for index in range(imgs.shape[0]):\n",
    "    result_show(imgs[index].cpu().permute(1,2,0),label[index].cpu(),pred[index,0].detach().cpu())\n",
    "iou_min_index"
   ]
  },
  {
   "cell_type": "code",
   "execution_count": null,
   "metadata": {},
   "outputs": [],
   "source": [
    "# 可视化\n",
    "device = torch.device(\"cpu\")\n",
    "\n",
    "model = torch.load(model_path,map_location=device)\n",
    "model.eval()\n",
    "for imgs,label in tqdm(test_loader):\n",
    "    imgs = imgs.to(device)\n",
    "    label = label.to(device)\n",
    "\n",
    "    pred = model(imgs)\n",
    "    \n",
    "    pred[pred>0.5]=1\n",
    "    pred[pred<1]=0\n",
    "    for index in range(imgs.shape[0]):\n",
    "        result_show(imgs[index].cpu().permute(1,2,0),label[index].cpu(),pred[index,0].detach().cpu())\n",
    "    break\n",
    "\n",
    "np.mean(iou_list),np.mean(dice_list)"
   ]
  }
 ],
 "metadata": {
  "kernelspec": {
   "display_name": "base",
   "language": "python",
   "name": "python3"
  },
  "language_info": {
   "codemirror_mode": {
    "name": "ipython",
    "version": 3
   },
   "file_extension": ".py",
   "mimetype": "text/x-python",
   "name": "python",
   "nbconvert_exporter": "python",
   "pygments_lexer": "ipython3",
   "version": "3.10.12"
  }
 },
 "nbformat": 4,
 "nbformat_minor": 2
}
